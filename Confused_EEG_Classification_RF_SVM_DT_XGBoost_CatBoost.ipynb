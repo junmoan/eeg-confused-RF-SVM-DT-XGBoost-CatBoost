{
  "nbformat": 4,
  "nbformat_minor": 0,
  "metadata": {
    "colab": {
      "name": "Confused_EEG_Classification_RF_SVM_DT_XGBoost_CatBoost.ipynb",
      "provenance": [],
      "collapsed_sections": []
    },
    "kernelspec": {
      "name": "python3",
      "display_name": "Python 3"
    }
  },
  "cells": [
    {
      "cell_type": "code",
      "metadata": {
        "id": "USZjc-H5nrDz",
        "colab_type": "code",
        "colab": {}
      },
      "source": [
        "# Import the machine learning libraries.\n",
        "import pandas as pd\n",
        "import numpy as np\n",
        "import matplotlib.pyplot as plt\n",
        "%matplotlib inline"
      ],
      "execution_count": 48,
      "outputs": []
    },
    {
      "cell_type": "code",
      "metadata": {
        "id": "_9bLP7ka1kN0",
        "colab_type": "code",
        "colab": {
          "base_uri": "https://localhost:8080/",
          "height": 255
        },
        "outputId": "5f5de1d1-7080-4258-f731-53c1005745f2"
      },
      "source": [
        "!pip install catboost"
      ],
      "execution_count": 49,
      "outputs": [
        {
          "output_type": "stream",
          "text": [
            "Requirement already satisfied: catboost in /usr/local/lib/python3.6/dist-packages (0.24.1)\n",
            "Requirement already satisfied: graphviz in /usr/local/lib/python3.6/dist-packages (from catboost) (0.10.1)\n",
            "Requirement already satisfied: plotly in /usr/local/lib/python3.6/dist-packages (from catboost) (4.4.1)\n",
            "Requirement already satisfied: numpy>=1.16.0 in /usr/local/lib/python3.6/dist-packages (from catboost) (1.18.5)\n",
            "Requirement already satisfied: matplotlib in /usr/local/lib/python3.6/dist-packages (from catboost) (3.2.2)\n",
            "Requirement already satisfied: scipy in /usr/local/lib/python3.6/dist-packages (from catboost) (1.4.1)\n",
            "Requirement already satisfied: pandas>=0.24.0 in /usr/local/lib/python3.6/dist-packages (from catboost) (1.0.5)\n",
            "Requirement already satisfied: six in /usr/local/lib/python3.6/dist-packages (from catboost) (1.15.0)\n",
            "Requirement already satisfied: retrying>=1.3.3 in /usr/local/lib/python3.6/dist-packages (from plotly->catboost) (1.3.3)\n",
            "Requirement already satisfied: cycler>=0.10 in /usr/local/lib/python3.6/dist-packages (from matplotlib->catboost) (0.10.0)\n",
            "Requirement already satisfied: kiwisolver>=1.0.1 in /usr/local/lib/python3.6/dist-packages (from matplotlib->catboost) (1.2.0)\n",
            "Requirement already satisfied: python-dateutil>=2.1 in /usr/local/lib/python3.6/dist-packages (from matplotlib->catboost) (2.8.1)\n",
            "Requirement already satisfied: pyparsing!=2.0.4,!=2.1.2,!=2.1.6,>=2.0.1 in /usr/local/lib/python3.6/dist-packages (from matplotlib->catboost) (2.4.7)\n",
            "Requirement already satisfied: pytz>=2017.2 in /usr/local/lib/python3.6/dist-packages (from pandas>=0.24.0->catboost) (2018.9)\n"
          ],
          "name": "stdout"
        }
      ]
    },
    {
      "cell_type": "code",
      "metadata": {
        "id": "c61ePjGgogU1",
        "colab_type": "code",
        "colab": {}
      },
      "source": [
        "# Load the dataset.\n",
        "# The dataset can be downloaded here: https://www.kaggle.com/wanghaohan/confused-eeg.\n",
        "df = pd.read_csv(\"EEG_data.csv\")\n",
        "subs = pd.read_csv(\"demographic_info.csv\")"
      ],
      "execution_count": 50,
      "outputs": []
    },
    {
      "cell_type": "code",
      "metadata": {
        "id": "-UUoqbjMpTMD",
        "colab_type": "code",
        "colab": {
          "base_uri": "https://localhost:8080/",
          "height": 241
        },
        "outputId": "4a303f0d-4966-409f-8184-f662844405ed"
      },
      "source": [
        "df.head()"
      ],
      "execution_count": 51,
      "outputs": [
        {
          "output_type": "execute_result",
          "data": {
            "text/html": [
              "<div>\n",
              "<style scoped>\n",
              "    .dataframe tbody tr th:only-of-type {\n",
              "        vertical-align: middle;\n",
              "    }\n",
              "\n",
              "    .dataframe tbody tr th {\n",
              "        vertical-align: top;\n",
              "    }\n",
              "\n",
              "    .dataframe thead th {\n",
              "        text-align: right;\n",
              "    }\n",
              "</style>\n",
              "<table border=\"1\" class=\"dataframe\">\n",
              "  <thead>\n",
              "    <tr style=\"text-align: right;\">\n",
              "      <th></th>\n",
              "      <th>SubjectID</th>\n",
              "      <th>VideoID</th>\n",
              "      <th>Attention</th>\n",
              "      <th>Mediation</th>\n",
              "      <th>Raw</th>\n",
              "      <th>Delta</th>\n",
              "      <th>Theta</th>\n",
              "      <th>Alpha1</th>\n",
              "      <th>Alpha2</th>\n",
              "      <th>Beta1</th>\n",
              "      <th>Beta2</th>\n",
              "      <th>Gamma1</th>\n",
              "      <th>Gamma2</th>\n",
              "      <th>predefinedlabel</th>\n",
              "      <th>user-definedlabeln</th>\n",
              "    </tr>\n",
              "  </thead>\n",
              "  <tbody>\n",
              "    <tr>\n",
              "      <th>0</th>\n",
              "      <td>0.0</td>\n",
              "      <td>0.0</td>\n",
              "      <td>56.0</td>\n",
              "      <td>43.0</td>\n",
              "      <td>278.0</td>\n",
              "      <td>301963.0</td>\n",
              "      <td>90612.0</td>\n",
              "      <td>33735.0</td>\n",
              "      <td>23991.0</td>\n",
              "      <td>27946.0</td>\n",
              "      <td>45097.0</td>\n",
              "      <td>33228.0</td>\n",
              "      <td>8293.0</td>\n",
              "      <td>0.0</td>\n",
              "      <td>0.0</td>\n",
              "    </tr>\n",
              "    <tr>\n",
              "      <th>1</th>\n",
              "      <td>0.0</td>\n",
              "      <td>0.0</td>\n",
              "      <td>40.0</td>\n",
              "      <td>35.0</td>\n",
              "      <td>-50.0</td>\n",
              "      <td>73787.0</td>\n",
              "      <td>28083.0</td>\n",
              "      <td>1439.0</td>\n",
              "      <td>2240.0</td>\n",
              "      <td>2746.0</td>\n",
              "      <td>3687.0</td>\n",
              "      <td>5293.0</td>\n",
              "      <td>2740.0</td>\n",
              "      <td>0.0</td>\n",
              "      <td>0.0</td>\n",
              "    </tr>\n",
              "    <tr>\n",
              "      <th>2</th>\n",
              "      <td>0.0</td>\n",
              "      <td>0.0</td>\n",
              "      <td>47.0</td>\n",
              "      <td>48.0</td>\n",
              "      <td>101.0</td>\n",
              "      <td>758353.0</td>\n",
              "      <td>383745.0</td>\n",
              "      <td>201999.0</td>\n",
              "      <td>62107.0</td>\n",
              "      <td>36293.0</td>\n",
              "      <td>130536.0</td>\n",
              "      <td>57243.0</td>\n",
              "      <td>25354.0</td>\n",
              "      <td>0.0</td>\n",
              "      <td>0.0</td>\n",
              "    </tr>\n",
              "    <tr>\n",
              "      <th>3</th>\n",
              "      <td>0.0</td>\n",
              "      <td>0.0</td>\n",
              "      <td>47.0</td>\n",
              "      <td>57.0</td>\n",
              "      <td>-5.0</td>\n",
              "      <td>2012240.0</td>\n",
              "      <td>129350.0</td>\n",
              "      <td>61236.0</td>\n",
              "      <td>17084.0</td>\n",
              "      <td>11488.0</td>\n",
              "      <td>62462.0</td>\n",
              "      <td>49960.0</td>\n",
              "      <td>33932.0</td>\n",
              "      <td>0.0</td>\n",
              "      <td>0.0</td>\n",
              "    </tr>\n",
              "    <tr>\n",
              "      <th>4</th>\n",
              "      <td>0.0</td>\n",
              "      <td>0.0</td>\n",
              "      <td>44.0</td>\n",
              "      <td>53.0</td>\n",
              "      <td>-8.0</td>\n",
              "      <td>1005145.0</td>\n",
              "      <td>354328.0</td>\n",
              "      <td>37102.0</td>\n",
              "      <td>88881.0</td>\n",
              "      <td>45307.0</td>\n",
              "      <td>99603.0</td>\n",
              "      <td>44790.0</td>\n",
              "      <td>29749.0</td>\n",
              "      <td>0.0</td>\n",
              "      <td>0.0</td>\n",
              "    </tr>\n",
              "  </tbody>\n",
              "</table>\n",
              "</div>"
            ],
            "text/plain": [
              "   SubjectID  VideoID  Attention  ...   Gamma2  predefinedlabel  user-definedlabeln\n",
              "0        0.0      0.0       56.0  ...   8293.0              0.0                 0.0\n",
              "1        0.0      0.0       40.0  ...   2740.0              0.0                 0.0\n",
              "2        0.0      0.0       47.0  ...  25354.0              0.0                 0.0\n",
              "3        0.0      0.0       47.0  ...  33932.0              0.0                 0.0\n",
              "4        0.0      0.0       44.0  ...  29749.0              0.0                 0.0\n",
              "\n",
              "[5 rows x 15 columns]"
            ]
          },
          "metadata": {
            "tags": []
          },
          "execution_count": 51
        }
      ]
    },
    {
      "cell_type": "code",
      "metadata": {
        "id": "8ErU-UikpmKl",
        "colab_type": "code",
        "colab": {
          "base_uri": "https://localhost:8080/",
          "height": 241
        },
        "outputId": "b3660dfa-4365-4e0a-e7f8-7d1fafe0073d"
      },
      "source": [
        "df.tail()"
      ],
      "execution_count": 52,
      "outputs": [
        {
          "output_type": "execute_result",
          "data": {
            "text/html": [
              "<div>\n",
              "<style scoped>\n",
              "    .dataframe tbody tr th:only-of-type {\n",
              "        vertical-align: middle;\n",
              "    }\n",
              "\n",
              "    .dataframe tbody tr th {\n",
              "        vertical-align: top;\n",
              "    }\n",
              "\n",
              "    .dataframe thead th {\n",
              "        text-align: right;\n",
              "    }\n",
              "</style>\n",
              "<table border=\"1\" class=\"dataframe\">\n",
              "  <thead>\n",
              "    <tr style=\"text-align: right;\">\n",
              "      <th></th>\n",
              "      <th>SubjectID</th>\n",
              "      <th>VideoID</th>\n",
              "      <th>Attention</th>\n",
              "      <th>Mediation</th>\n",
              "      <th>Raw</th>\n",
              "      <th>Delta</th>\n",
              "      <th>Theta</th>\n",
              "      <th>Alpha1</th>\n",
              "      <th>Alpha2</th>\n",
              "      <th>Beta1</th>\n",
              "      <th>Beta2</th>\n",
              "      <th>Gamma1</th>\n",
              "      <th>Gamma2</th>\n",
              "      <th>predefinedlabel</th>\n",
              "      <th>user-definedlabeln</th>\n",
              "    </tr>\n",
              "  </thead>\n",
              "  <tbody>\n",
              "    <tr>\n",
              "      <th>12806</th>\n",
              "      <td>9.0</td>\n",
              "      <td>9.0</td>\n",
              "      <td>64.0</td>\n",
              "      <td>38.0</td>\n",
              "      <td>-39.0</td>\n",
              "      <td>127574.0</td>\n",
              "      <td>9951.0</td>\n",
              "      <td>709.0</td>\n",
              "      <td>21732.0</td>\n",
              "      <td>3872.0</td>\n",
              "      <td>39728.0</td>\n",
              "      <td>2598.0</td>\n",
              "      <td>960.0</td>\n",
              "      <td>1.0</td>\n",
              "      <td>0.0</td>\n",
              "    </tr>\n",
              "    <tr>\n",
              "      <th>12807</th>\n",
              "      <td>9.0</td>\n",
              "      <td>9.0</td>\n",
              "      <td>61.0</td>\n",
              "      <td>35.0</td>\n",
              "      <td>-275.0</td>\n",
              "      <td>323061.0</td>\n",
              "      <td>797464.0</td>\n",
              "      <td>153171.0</td>\n",
              "      <td>145805.0</td>\n",
              "      <td>39829.0</td>\n",
              "      <td>571280.0</td>\n",
              "      <td>36574.0</td>\n",
              "      <td>10010.0</td>\n",
              "      <td>1.0</td>\n",
              "      <td>0.0</td>\n",
              "    </tr>\n",
              "    <tr>\n",
              "      <th>12808</th>\n",
              "      <td>9.0</td>\n",
              "      <td>9.0</td>\n",
              "      <td>60.0</td>\n",
              "      <td>29.0</td>\n",
              "      <td>-426.0</td>\n",
              "      <td>680989.0</td>\n",
              "      <td>154296.0</td>\n",
              "      <td>40068.0</td>\n",
              "      <td>39122.0</td>\n",
              "      <td>10966.0</td>\n",
              "      <td>26975.0</td>\n",
              "      <td>20427.0</td>\n",
              "      <td>2024.0</td>\n",
              "      <td>1.0</td>\n",
              "      <td>0.0</td>\n",
              "    </tr>\n",
              "    <tr>\n",
              "      <th>12809</th>\n",
              "      <td>9.0</td>\n",
              "      <td>9.0</td>\n",
              "      <td>60.0</td>\n",
              "      <td>29.0</td>\n",
              "      <td>-84.0</td>\n",
              "      <td>366269.0</td>\n",
              "      <td>27346.0</td>\n",
              "      <td>11444.0</td>\n",
              "      <td>9932.0</td>\n",
              "      <td>1939.0</td>\n",
              "      <td>3283.0</td>\n",
              "      <td>12323.0</td>\n",
              "      <td>1764.0</td>\n",
              "      <td>1.0</td>\n",
              "      <td>0.0</td>\n",
              "    </tr>\n",
              "    <tr>\n",
              "      <th>12810</th>\n",
              "      <td>9.0</td>\n",
              "      <td>9.0</td>\n",
              "      <td>64.0</td>\n",
              "      <td>29.0</td>\n",
              "      <td>-49.0</td>\n",
              "      <td>1164555.0</td>\n",
              "      <td>1184366.0</td>\n",
              "      <td>50014.0</td>\n",
              "      <td>124208.0</td>\n",
              "      <td>10634.0</td>\n",
              "      <td>445383.0</td>\n",
              "      <td>22133.0</td>\n",
              "      <td>4482.0</td>\n",
              "      <td>1.0</td>\n",
              "      <td>0.0</td>\n",
              "    </tr>\n",
              "  </tbody>\n",
              "</table>\n",
              "</div>"
            ],
            "text/plain": [
              "       SubjectID  VideoID  ...  predefinedlabel  user-definedlabeln\n",
              "12806        9.0      9.0  ...              1.0                 0.0\n",
              "12807        9.0      9.0  ...              1.0                 0.0\n",
              "12808        9.0      9.0  ...              1.0                 0.0\n",
              "12809        9.0      9.0  ...              1.0                 0.0\n",
              "12810        9.0      9.0  ...              1.0                 0.0\n",
              "\n",
              "[5 rows x 15 columns]"
            ]
          },
          "metadata": {
            "tags": []
          },
          "execution_count": 52
        }
      ]
    },
    {
      "cell_type": "code",
      "metadata": {
        "id": "dqcURy7apoWx",
        "colab_type": "code",
        "colab": {
          "base_uri": "https://localhost:8080/",
          "height": 334
        },
        "outputId": "e14fbdae-ece3-4f37-a286-5221716be61f"
      },
      "source": [
        "df.describe()"
      ],
      "execution_count": 53,
      "outputs": [
        {
          "output_type": "execute_result",
          "data": {
            "text/html": [
              "<div>\n",
              "<style scoped>\n",
              "    .dataframe tbody tr th:only-of-type {\n",
              "        vertical-align: middle;\n",
              "    }\n",
              "\n",
              "    .dataframe tbody tr th {\n",
              "        vertical-align: top;\n",
              "    }\n",
              "\n",
              "    .dataframe thead th {\n",
              "        text-align: right;\n",
              "    }\n",
              "</style>\n",
              "<table border=\"1\" class=\"dataframe\">\n",
              "  <thead>\n",
              "    <tr style=\"text-align: right;\">\n",
              "      <th></th>\n",
              "      <th>SubjectID</th>\n",
              "      <th>VideoID</th>\n",
              "      <th>Attention</th>\n",
              "      <th>Mediation</th>\n",
              "      <th>Raw</th>\n",
              "      <th>Delta</th>\n",
              "      <th>Theta</th>\n",
              "      <th>Alpha1</th>\n",
              "      <th>Alpha2</th>\n",
              "      <th>Beta1</th>\n",
              "      <th>Beta2</th>\n",
              "      <th>Gamma1</th>\n",
              "      <th>Gamma2</th>\n",
              "      <th>predefinedlabel</th>\n",
              "      <th>user-definedlabeln</th>\n",
              "    </tr>\n",
              "  </thead>\n",
              "  <tbody>\n",
              "    <tr>\n",
              "      <th>count</th>\n",
              "      <td>12811.000000</td>\n",
              "      <td>12811.000000</td>\n",
              "      <td>12811.000000</td>\n",
              "      <td>12811.000000</td>\n",
              "      <td>12811.000000</td>\n",
              "      <td>1.281100e+04</td>\n",
              "      <td>1.281100e+04</td>\n",
              "      <td>1.281100e+04</td>\n",
              "      <td>1.281100e+04</td>\n",
              "      <td>1.281100e+04</td>\n",
              "      <td>1.281100e+04</td>\n",
              "      <td>1.281100e+04</td>\n",
              "      <td>1.281100e+04</td>\n",
              "      <td>12811.000000</td>\n",
              "      <td>12811.000000</td>\n",
              "    </tr>\n",
              "    <tr>\n",
              "      <th>mean</th>\n",
              "      <td>4.487394</td>\n",
              "      <td>4.390602</td>\n",
              "      <td>41.313871</td>\n",
              "      <td>47.182656</td>\n",
              "      <td>65.570760</td>\n",
              "      <td>6.057853e+05</td>\n",
              "      <td>1.680526e+05</td>\n",
              "      <td>4.138435e+04</td>\n",
              "      <td>3.318339e+04</td>\n",
              "      <td>2.431837e+04</td>\n",
              "      <td>3.814433e+04</td>\n",
              "      <td>2.959255e+04</td>\n",
              "      <td>1.441597e+04</td>\n",
              "      <td>0.479978</td>\n",
              "      <td>0.512606</td>\n",
              "    </tr>\n",
              "    <tr>\n",
              "      <th>std</th>\n",
              "      <td>2.865373</td>\n",
              "      <td>2.913232</td>\n",
              "      <td>23.152953</td>\n",
              "      <td>22.655976</td>\n",
              "      <td>597.921035</td>\n",
              "      <td>6.376236e+05</td>\n",
              "      <td>2.441346e+05</td>\n",
              "      <td>7.243082e+04</td>\n",
              "      <td>5.831410e+04</td>\n",
              "      <td>3.837968e+04</td>\n",
              "      <td>7.906606e+04</td>\n",
              "      <td>7.982637e+04</td>\n",
              "      <td>3.603523e+04</td>\n",
              "      <td>0.499618</td>\n",
              "      <td>0.499861</td>\n",
              "    </tr>\n",
              "    <tr>\n",
              "      <th>min</th>\n",
              "      <td>0.000000</td>\n",
              "      <td>0.000000</td>\n",
              "      <td>0.000000</td>\n",
              "      <td>0.000000</td>\n",
              "      <td>-2048.000000</td>\n",
              "      <td>4.480000e+02</td>\n",
              "      <td>1.700000e+01</td>\n",
              "      <td>2.000000e+00</td>\n",
              "      <td>2.000000e+00</td>\n",
              "      <td>3.000000e+00</td>\n",
              "      <td>2.000000e+00</td>\n",
              "      <td>1.000000e+00</td>\n",
              "      <td>2.000000e+00</td>\n",
              "      <td>0.000000</td>\n",
              "      <td>0.000000</td>\n",
              "    </tr>\n",
              "    <tr>\n",
              "      <th>25%</th>\n",
              "      <td>2.000000</td>\n",
              "      <td>2.000000</td>\n",
              "      <td>27.000000</td>\n",
              "      <td>37.000000</td>\n",
              "      <td>-14.000000</td>\n",
              "      <td>9.806400e+04</td>\n",
              "      <td>2.691750e+04</td>\n",
              "      <td>6.838000e+03</td>\n",
              "      <td>6.852000e+03</td>\n",
              "      <td>6.140000e+03</td>\n",
              "      <td>7.358500e+03</td>\n",
              "      <td>4.058000e+03</td>\n",
              "      <td>2.167500e+03</td>\n",
              "      <td>0.000000</td>\n",
              "      <td>0.000000</td>\n",
              "    </tr>\n",
              "    <tr>\n",
              "      <th>50%</th>\n",
              "      <td>4.000000</td>\n",
              "      <td>4.000000</td>\n",
              "      <td>43.000000</td>\n",
              "      <td>51.000000</td>\n",
              "      <td>35.000000</td>\n",
              "      <td>3.954870e+05</td>\n",
              "      <td>8.133100e+04</td>\n",
              "      <td>1.750000e+04</td>\n",
              "      <td>1.495900e+04</td>\n",
              "      <td>1.281800e+04</td>\n",
              "      <td>1.581000e+04</td>\n",
              "      <td>9.763000e+03</td>\n",
              "      <td>5.116000e+03</td>\n",
              "      <td>0.000000</td>\n",
              "      <td>1.000000</td>\n",
              "    </tr>\n",
              "    <tr>\n",
              "      <th>75%</th>\n",
              "      <td>7.000000</td>\n",
              "      <td>7.000000</td>\n",
              "      <td>57.000000</td>\n",
              "      <td>63.000000</td>\n",
              "      <td>90.000000</td>\n",
              "      <td>9.166230e+05</td>\n",
              "      <td>2.052760e+05</td>\n",
              "      <td>4.477950e+04</td>\n",
              "      <td>3.455050e+04</td>\n",
              "      <td>2.740600e+04</td>\n",
              "      <td>3.549400e+04</td>\n",
              "      <td>2.488800e+04</td>\n",
              "      <td>1.266950e+04</td>\n",
              "      <td>1.000000</td>\n",
              "      <td>1.000000</td>\n",
              "    </tr>\n",
              "    <tr>\n",
              "      <th>max</th>\n",
              "      <td>9.000000</td>\n",
              "      <td>9.000000</td>\n",
              "      <td>100.000000</td>\n",
              "      <td>100.000000</td>\n",
              "      <td>2047.000000</td>\n",
              "      <td>3.964663e+06</td>\n",
              "      <td>3.007802e+06</td>\n",
              "      <td>1.369955e+06</td>\n",
              "      <td>1.016913e+06</td>\n",
              "      <td>1.067778e+06</td>\n",
              "      <td>1.645369e+06</td>\n",
              "      <td>1.972506e+06</td>\n",
              "      <td>1.348117e+06</td>\n",
              "      <td>1.000000</td>\n",
              "      <td>1.000000</td>\n",
              "    </tr>\n",
              "  </tbody>\n",
              "</table>\n",
              "</div>"
            ],
            "text/plain": [
              "          SubjectID       VideoID  ...  predefinedlabel  user-definedlabeln\n",
              "count  12811.000000  12811.000000  ...     12811.000000        12811.000000\n",
              "mean       4.487394      4.390602  ...         0.479978            0.512606\n",
              "std        2.865373      2.913232  ...         0.499618            0.499861\n",
              "min        0.000000      0.000000  ...         0.000000            0.000000\n",
              "25%        2.000000      2.000000  ...         0.000000            0.000000\n",
              "50%        4.000000      4.000000  ...         0.000000            1.000000\n",
              "75%        7.000000      7.000000  ...         1.000000            1.000000\n",
              "max        9.000000      9.000000  ...         1.000000            1.000000\n",
              "\n",
              "[8 rows x 15 columns]"
            ]
          },
          "metadata": {
            "tags": []
          },
          "execution_count": 53
        }
      ]
    },
    {
      "cell_type": "code",
      "metadata": {
        "id": "jnEvbmg0rAl3",
        "colab_type": "code",
        "colab": {
          "base_uri": "https://localhost:8080/",
          "height": 391
        },
        "outputId": "cd10f9ba-4f24-489f-a18c-f978994cf1c6"
      },
      "source": [
        "df.info()"
      ],
      "execution_count": 54,
      "outputs": [
        {
          "output_type": "stream",
          "text": [
            "<class 'pandas.core.frame.DataFrame'>\n",
            "RangeIndex: 12811 entries, 0 to 12810\n",
            "Data columns (total 15 columns):\n",
            " #   Column              Non-Null Count  Dtype  \n",
            "---  ------              --------------  -----  \n",
            " 0   SubjectID           12811 non-null  float64\n",
            " 1   VideoID             12811 non-null  float64\n",
            " 2   Attention           12811 non-null  float64\n",
            " 3   Mediation           12811 non-null  float64\n",
            " 4   Raw                 12811 non-null  float64\n",
            " 5   Delta               12811 non-null  float64\n",
            " 6   Theta               12811 non-null  float64\n",
            " 7   Alpha1              12811 non-null  float64\n",
            " 8   Alpha2              12811 non-null  float64\n",
            " 9   Beta1               12811 non-null  float64\n",
            " 10  Beta2               12811 non-null  float64\n",
            " 11  Gamma1              12811 non-null  float64\n",
            " 12  Gamma2              12811 non-null  float64\n",
            " 13  predefinedlabel     12811 non-null  float64\n",
            " 14  user-definedlabeln  12811 non-null  float64\n",
            "dtypes: float64(15)\n",
            "memory usage: 1.5 MB\n"
          ],
          "name": "stdout"
        }
      ]
    },
    {
      "cell_type": "code",
      "metadata": {
        "id": "wHJSmvkRrEol",
        "colab_type": "code",
        "colab": {
          "base_uri": "https://localhost:8080/",
          "height": 511
        },
        "outputId": "c2879b01-39eb-4bca-f7cc-31bb6f932a40"
      },
      "source": [
        "# Visualize the data.\n",
        "df.plot(figsize=(16,8))"
      ],
      "execution_count": 55,
      "outputs": [
        {
          "output_type": "execute_result",
          "data": {
            "text/plain": [
              "<matplotlib.axes._subplots.AxesSubplot at 0x7f2cd833f470>"
            ]
          },
          "metadata": {
            "tags": []
          },
          "execution_count": 55
        },
        {
          "output_type": "display_data",
          "data": {
            "image/png": "[encoded data removed]",
            "text/plain": [
              "<Figure size 1152x576 with 1 Axes>"
            ]
          },
          "metadata": {
            "tags": [],
            "needs_background": "light"
          }
        }
      ]
    },
    {
      "cell_type": "code",
      "metadata": {
        "id": "FpvJQNvJ91l3",
        "colab_type": "code",
        "colab": {
          "base_uri": "https://localhost:8080/",
          "height": 568
        },
        "outputId": "c39ea0e6-521a-4069-84f5-05af9c64a882"
      },
      "source": [
        "# Check correlation.\n",
        "corr = df.corr()\n",
        "corr"
      ],
      "execution_count": 56,
      "outputs": [
        {
          "output_type": "execute_result",
          "data": {
            "text/html": [
              "<div>\n",
              "<style scoped>\n",
              "    .dataframe tbody tr th:only-of-type {\n",
              "        vertical-align: middle;\n",
              "    }\n",
              "\n",
              "    .dataframe tbody tr th {\n",
              "        vertical-align: top;\n",
              "    }\n",
              "\n",
              "    .dataframe thead th {\n",
              "        text-align: right;\n",
              "    }\n",
              "</style>\n",
              "<table border=\"1\" class=\"dataframe\">\n",
              "  <thead>\n",
              "    <tr style=\"text-align: right;\">\n",
              "      <th></th>\n",
              "      <th>SubjectID</th>\n",
              "      <th>VideoID</th>\n",
              "      <th>Attention</th>\n",
              "      <th>Mediation</th>\n",
              "      <th>Raw</th>\n",
              "      <th>Delta</th>\n",
              "      <th>Theta</th>\n",
              "      <th>Alpha1</th>\n",
              "      <th>Alpha2</th>\n",
              "      <th>Beta1</th>\n",
              "      <th>Beta2</th>\n",
              "      <th>Gamma1</th>\n",
              "      <th>Gamma2</th>\n",
              "      <th>predefinedlabel</th>\n",
              "      <th>user-definedlabeln</th>\n",
              "    </tr>\n",
              "  </thead>\n",
              "  <tbody>\n",
              "    <tr>\n",
              "      <th>SubjectID</th>\n",
              "      <td>1.000000</td>\n",
              "      <td>-0.005433</td>\n",
              "      <td>-0.180441</td>\n",
              "      <td>-0.170742</td>\n",
              "      <td>0.027211</td>\n",
              "      <td>0.202922</td>\n",
              "      <td>0.120596</td>\n",
              "      <td>0.116931</td>\n",
              "      <td>0.154046</td>\n",
              "      <td>0.098837</td>\n",
              "      <td>0.150109</td>\n",
              "      <td>0.100404</td>\n",
              "      <td>0.100470</td>\n",
              "      <td>-0.002780</td>\n",
              "      <td>0.016966</td>\n",
              "    </tr>\n",
              "    <tr>\n",
              "      <th>VideoID</th>\n",
              "      <td>-0.005433</td>\n",
              "      <td>1.000000</td>\n",
              "      <td>-0.043221</td>\n",
              "      <td>0.007286</td>\n",
              "      <td>0.007152</td>\n",
              "      <td>0.009813</td>\n",
              "      <td>-0.000652</td>\n",
              "      <td>0.013590</td>\n",
              "      <td>-0.010091</td>\n",
              "      <td>0.007593</td>\n",
              "      <td>-0.074124</td>\n",
              "      <td>-0.057620</td>\n",
              "      <td>-0.025371</td>\n",
              "      <td>0.871342</td>\n",
              "      <td>0.007233</td>\n",
              "    </tr>\n",
              "    <tr>\n",
              "      <th>Attention</th>\n",
              "      <td>-0.180441</td>\n",
              "      <td>-0.043221</td>\n",
              "      <td>1.000000</td>\n",
              "      <td>0.548606</td>\n",
              "      <td>-0.094933</td>\n",
              "      <td>-0.220403</td>\n",
              "      <td>-0.258356</td>\n",
              "      <td>-0.198662</td>\n",
              "      <td>-0.247011</td>\n",
              "      <td>-0.255361</td>\n",
              "      <td>-0.306624</td>\n",
              "      <td>-0.299903</td>\n",
              "      <td>-0.312734</td>\n",
              "      <td>0.001559</td>\n",
              "      <td>-0.119088</td>\n",
              "    </tr>\n",
              "    <tr>\n",
              "      <th>Mediation</th>\n",
              "      <td>-0.170742</td>\n",
              "      <td>0.007286</td>\n",
              "      <td>0.548606</td>\n",
              "      <td>1.000000</td>\n",
              "      <td>-0.106923</td>\n",
              "      <td>-0.111810</td>\n",
              "      <td>-0.179887</td>\n",
              "      <td>-0.043275</td>\n",
              "      <td>-0.153740</td>\n",
              "      <td>-0.240774</td>\n",
              "      <td>-0.391365</td>\n",
              "      <td>-0.344922</td>\n",
              "      <td>-0.373253</td>\n",
              "      <td>0.015751</td>\n",
              "      <td>-0.023502</td>\n",
              "    </tr>\n",
              "    <tr>\n",
              "      <th>Raw</th>\n",
              "      <td>0.027211</td>\n",
              "      <td>0.007152</td>\n",
              "      <td>-0.094933</td>\n",
              "      <td>-0.106923</td>\n",
              "      <td>1.000000</td>\n",
              "      <td>0.048908</td>\n",
              "      <td>0.053443</td>\n",
              "      <td>0.045247</td>\n",
              "      <td>0.063867</td>\n",
              "      <td>0.090863</td>\n",
              "      <td>0.173631</td>\n",
              "      <td>0.186884</td>\n",
              "      <td>0.205772</td>\n",
              "      <td>0.010598</td>\n",
              "      <td>-0.001465</td>\n",
              "    </tr>\n",
              "    <tr>\n",
              "      <th>Delta</th>\n",
              "      <td>0.202922</td>\n",
              "      <td>0.009813</td>\n",
              "      <td>-0.220403</td>\n",
              "      <td>-0.111810</td>\n",
              "      <td>0.048908</td>\n",
              "      <td>1.000000</td>\n",
              "      <td>0.483386</td>\n",
              "      <td>0.426530</td>\n",
              "      <td>0.409898</td>\n",
              "      <td>0.395217</td>\n",
              "      <td>0.260820</td>\n",
              "      <td>0.210062</td>\n",
              "      <td>0.218673</td>\n",
              "      <td>0.012333</td>\n",
              "      <td>0.148588</td>\n",
              "    </tr>\n",
              "    <tr>\n",
              "      <th>Theta</th>\n",
              "      <td>0.120596</td>\n",
              "      <td>-0.000652</td>\n",
              "      <td>-0.258356</td>\n",
              "      <td>-0.179887</td>\n",
              "      <td>0.053443</td>\n",
              "      <td>0.483386</td>\n",
              "      <td>1.000000</td>\n",
              "      <td>0.586956</td>\n",
              "      <td>0.553796</td>\n",
              "      <td>0.555541</td>\n",
              "      <td>0.368975</td>\n",
              "      <td>0.300468</td>\n",
              "      <td>0.308575</td>\n",
              "      <td>0.001602</td>\n",
              "      <td>0.147558</td>\n",
              "    </tr>\n",
              "    <tr>\n",
              "      <th>Alpha1</th>\n",
              "      <td>0.116931</td>\n",
              "      <td>0.013590</td>\n",
              "      <td>-0.198662</td>\n",
              "      <td>-0.043275</td>\n",
              "      <td>0.045247</td>\n",
              "      <td>0.426530</td>\n",
              "      <td>0.586956</td>\n",
              "      <td>1.000000</td>\n",
              "      <td>0.565232</td>\n",
              "      <td>0.549113</td>\n",
              "      <td>0.317923</td>\n",
              "      <td>0.267677</td>\n",
              "      <td>0.323593</td>\n",
              "      <td>0.011802</td>\n",
              "      <td>0.121711</td>\n",
              "    </tr>\n",
              "    <tr>\n",
              "      <th>Alpha2</th>\n",
              "      <td>0.154046</td>\n",
              "      <td>-0.010091</td>\n",
              "      <td>-0.247011</td>\n",
              "      <td>-0.153740</td>\n",
              "      <td>0.063867</td>\n",
              "      <td>0.409898</td>\n",
              "      <td>0.553796</td>\n",
              "      <td>0.565232</td>\n",
              "      <td>1.000000</td>\n",
              "      <td>0.626824</td>\n",
              "      <td>0.464840</td>\n",
              "      <td>0.374979</td>\n",
              "      <td>0.455567</td>\n",
              "      <td>-0.001838</td>\n",
              "      <td>0.107238</td>\n",
              "    </tr>\n",
              "    <tr>\n",
              "      <th>Beta1</th>\n",
              "      <td>0.098837</td>\n",
              "      <td>0.007593</td>\n",
              "      <td>-0.255361</td>\n",
              "      <td>-0.240774</td>\n",
              "      <td>0.090863</td>\n",
              "      <td>0.395217</td>\n",
              "      <td>0.555541</td>\n",
              "      <td>0.549113</td>\n",
              "      <td>0.626824</td>\n",
              "      <td>1.000000</td>\n",
              "      <td>0.480490</td>\n",
              "      <td>0.422165</td>\n",
              "      <td>0.527484</td>\n",
              "      <td>0.008543</td>\n",
              "      <td>0.111482</td>\n",
              "    </tr>\n",
              "    <tr>\n",
              "      <th>Beta2</th>\n",
              "      <td>0.150109</td>\n",
              "      <td>-0.074124</td>\n",
              "      <td>-0.306624</td>\n",
              "      <td>-0.391365</td>\n",
              "      <td>0.173631</td>\n",
              "      <td>0.260820</td>\n",
              "      <td>0.368975</td>\n",
              "      <td>0.317923</td>\n",
              "      <td>0.464840</td>\n",
              "      <td>0.480490</td>\n",
              "      <td>1.000000</td>\n",
              "      <td>0.808930</td>\n",
              "      <td>0.692584</td>\n",
              "      <td>-0.093512</td>\n",
              "      <td>0.019556</td>\n",
              "    </tr>\n",
              "    <tr>\n",
              "      <th>Gamma1</th>\n",
              "      <td>0.100404</td>\n",
              "      <td>-0.057620</td>\n",
              "      <td>-0.299903</td>\n",
              "      <td>-0.344922</td>\n",
              "      <td>0.186884</td>\n",
              "      <td>0.210062</td>\n",
              "      <td>0.300468</td>\n",
              "      <td>0.267677</td>\n",
              "      <td>0.374979</td>\n",
              "      <td>0.422165</td>\n",
              "      <td>0.808930</td>\n",
              "      <td>1.000000</td>\n",
              "      <td>0.739836</td>\n",
              "      <td>-0.065764</td>\n",
              "      <td>0.011316</td>\n",
              "    </tr>\n",
              "    <tr>\n",
              "      <th>Gamma2</th>\n",
              "      <td>0.100470</td>\n",
              "      <td>-0.025371</td>\n",
              "      <td>-0.312734</td>\n",
              "      <td>-0.373253</td>\n",
              "      <td>0.205772</td>\n",
              "      <td>0.218673</td>\n",
              "      <td>0.308575</td>\n",
              "      <td>0.323593</td>\n",
              "      <td>0.455567</td>\n",
              "      <td>0.527484</td>\n",
              "      <td>0.692584</td>\n",
              "      <td>0.739836</td>\n",
              "      <td>1.000000</td>\n",
              "      <td>-0.028403</td>\n",
              "      <td>0.053533</td>\n",
              "    </tr>\n",
              "    <tr>\n",
              "      <th>predefinedlabel</th>\n",
              "      <td>-0.002780</td>\n",
              "      <td>0.871342</td>\n",
              "      <td>0.001559</td>\n",
              "      <td>0.015751</td>\n",
              "      <td>0.010598</td>\n",
              "      <td>0.012333</td>\n",
              "      <td>0.001602</td>\n",
              "      <td>0.011802</td>\n",
              "      <td>-0.001838</td>\n",
              "      <td>0.008543</td>\n",
              "      <td>-0.093512</td>\n",
              "      <td>-0.065764</td>\n",
              "      <td>-0.028403</td>\n",
              "      <td>1.000000</td>\n",
              "      <td>-0.022824</td>\n",
              "    </tr>\n",
              "    <tr>\n",
              "      <th>user-definedlabeln</th>\n",
              "      <td>0.016966</td>\n",
              "      <td>0.007233</td>\n",
              "      <td>-0.119088</td>\n",
              "      <td>-0.023502</td>\n",
              "      <td>-0.001465</td>\n",
              "      <td>0.148588</td>\n",
              "      <td>0.147558</td>\n",
              "      <td>0.121711</td>\n",
              "      <td>0.107238</td>\n",
              "      <td>0.111482</td>\n",
              "      <td>0.019556</td>\n",
              "      <td>0.011316</td>\n",
              "      <td>0.053533</td>\n",
              "      <td>-0.022824</td>\n",
              "      <td>1.000000</td>\n",
              "    </tr>\n",
              "  </tbody>\n",
              "</table>\n",
              "</div>"
            ],
            "text/plain": [
              "                    SubjectID   VideoID  ...  predefinedlabel  user-definedlabeln\n",
              "SubjectID            1.000000 -0.005433  ...        -0.002780            0.016966\n",
              "VideoID             -0.005433  1.000000  ...         0.871342            0.007233\n",
              "Attention           -0.180441 -0.043221  ...         0.001559           -0.119088\n",
              "Mediation           -0.170742  0.007286  ...         0.015751           -0.023502\n",
              "Raw                  0.027211  0.007152  ...         0.010598           -0.001465\n",
              "Delta                0.202922  0.009813  ...         0.012333            0.148588\n",
              "Theta                0.120596 -0.000652  ...         0.001602            0.147558\n",
              "Alpha1               0.116931  0.013590  ...         0.011802            0.121711\n",
              "Alpha2               0.154046 -0.010091  ...        -0.001838            0.107238\n",
              "Beta1                0.098837  0.007593  ...         0.008543            0.111482\n",
              "Beta2                0.150109 -0.074124  ...        -0.093512            0.019556\n",
              "Gamma1               0.100404 -0.057620  ...        -0.065764            0.011316\n",
              "Gamma2               0.100470 -0.025371  ...        -0.028403            0.053533\n",
              "predefinedlabel     -0.002780  0.871342  ...         1.000000           -0.022824\n",
              "user-definedlabeln   0.016966  0.007233  ...        -0.022824            1.000000\n",
              "\n",
              "[15 rows x 15 columns]"
            ]
          },
          "metadata": {
            "tags": []
          },
          "execution_count": 56
        }
      ]
    },
    {
      "cell_type": "code",
      "metadata": {
        "id": "VMciCz5995f2",
        "colab_type": "code",
        "colab": {
          "base_uri": "https://localhost:8080/",
          "height": 788
        },
        "outputId": "8e5340c3-a051-4fbc-fd7e-735d47e9aab5"
      },
      "source": [
        "import seaborn as sns\n",
        "plt.figure(figsize=(14,12))\n",
        "sns.heatmap(corr, vmin=-1, vmax=1, annot=True, cmap=\"RdBu_r\")\n",
        "plt.show()"
      ],
      "execution_count": 57,
      "outputs": [
        {
          "output_type": "display_data",
          "data": {
            "image/png": "[encoded data removed]",
            "text/plain": [
              "<Figure size 1008x864 with 2 Axes>"
            ]
          },
          "metadata": {
            "tags": [],
            "needs_background": "light"
          }
        }
      ]
    },
    {
      "cell_type": "code",
      "metadata": {
        "id": "lBFPkTkApXT3",
        "colab_type": "code",
        "colab": {
          "base_uri": "https://localhost:8080/",
          "height": 359
        },
        "outputId": "ba4cb6e7-8a8f-4716-8994-5e591adf6e56"
      },
      "source": [
        "subs"
      ],
      "execution_count": 58,
      "outputs": [
        {
          "output_type": "execute_result",
          "data": {
            "text/html": [
              "<div>\n",
              "<style scoped>\n",
              "    .dataframe tbody tr th:only-of-type {\n",
              "        vertical-align: middle;\n",
              "    }\n",
              "\n",
              "    .dataframe tbody tr th {\n",
              "        vertical-align: top;\n",
              "    }\n",
              "\n",
              "    .dataframe thead th {\n",
              "        text-align: right;\n",
              "    }\n",
              "</style>\n",
              "<table border=\"1\" class=\"dataframe\">\n",
              "  <thead>\n",
              "    <tr style=\"text-align: right;\">\n",
              "      <th></th>\n",
              "      <th>subject ID</th>\n",
              "      <th>age</th>\n",
              "      <th>ethnicity</th>\n",
              "      <th>gender</th>\n",
              "    </tr>\n",
              "  </thead>\n",
              "  <tbody>\n",
              "    <tr>\n",
              "      <th>0</th>\n",
              "      <td>0</td>\n",
              "      <td>25</td>\n",
              "      <td>Han Chinese</td>\n",
              "      <td>M</td>\n",
              "    </tr>\n",
              "    <tr>\n",
              "      <th>1</th>\n",
              "      <td>1</td>\n",
              "      <td>24</td>\n",
              "      <td>Han Chinese</td>\n",
              "      <td>M</td>\n",
              "    </tr>\n",
              "    <tr>\n",
              "      <th>2</th>\n",
              "      <td>2</td>\n",
              "      <td>31</td>\n",
              "      <td>English</td>\n",
              "      <td>M</td>\n",
              "    </tr>\n",
              "    <tr>\n",
              "      <th>3</th>\n",
              "      <td>3</td>\n",
              "      <td>28</td>\n",
              "      <td>Han Chinese</td>\n",
              "      <td>F</td>\n",
              "    </tr>\n",
              "    <tr>\n",
              "      <th>4</th>\n",
              "      <td>4</td>\n",
              "      <td>24</td>\n",
              "      <td>Bengali</td>\n",
              "      <td>M</td>\n",
              "    </tr>\n",
              "    <tr>\n",
              "      <th>5</th>\n",
              "      <td>5</td>\n",
              "      <td>24</td>\n",
              "      <td>Han Chinese</td>\n",
              "      <td>M</td>\n",
              "    </tr>\n",
              "    <tr>\n",
              "      <th>6</th>\n",
              "      <td>6</td>\n",
              "      <td>24</td>\n",
              "      <td>Han Chinese</td>\n",
              "      <td>M</td>\n",
              "    </tr>\n",
              "    <tr>\n",
              "      <th>7</th>\n",
              "      <td>7</td>\n",
              "      <td>25</td>\n",
              "      <td>Han Chinese</td>\n",
              "      <td>M</td>\n",
              "    </tr>\n",
              "    <tr>\n",
              "      <th>8</th>\n",
              "      <td>8</td>\n",
              "      <td>25</td>\n",
              "      <td>Han Chinese</td>\n",
              "      <td>M</td>\n",
              "    </tr>\n",
              "    <tr>\n",
              "      <th>9</th>\n",
              "      <td>9</td>\n",
              "      <td>24</td>\n",
              "      <td>Han Chinese</td>\n",
              "      <td>F</td>\n",
              "    </tr>\n",
              "  </tbody>\n",
              "</table>\n",
              "</div>"
            ],
            "text/plain": [
              "   subject ID   age    ethnicity  gender\n",
              "0           0    25  Han Chinese       M\n",
              "1           1    24  Han Chinese       M\n",
              "2           2    31      English       M\n",
              "3           3    28  Han Chinese       F\n",
              "4           4    24      Bengali       M\n",
              "5           5    24  Han Chinese       M\n",
              "6           6    24  Han Chinese       M\n",
              "7           7    25  Han Chinese       M\n",
              "8           8    25  Han Chinese       M\n",
              "9           9    24  Han Chinese       F"
            ]
          },
          "metadata": {
            "tags": []
          },
          "execution_count": 58
        }
      ]
    },
    {
      "cell_type": "code",
      "metadata": {
        "id": "BCNb6PtetkB8",
        "colab_type": "code",
        "colab": {
          "base_uri": "https://localhost:8080/",
          "height": 68
        },
        "outputId": "00e61e0b-e444-456d-a0d2-50a081fa4727"
      },
      "source": [
        "# Count up the class.\n",
        "df['user-definedlabeln'].value_counts()"
      ],
      "execution_count": 59,
      "outputs": [
        {
          "output_type": "execute_result",
          "data": {
            "text/plain": [
              "1.0    6567\n",
              "0.0    6244\n",
              "Name: user-definedlabeln, dtype: int64"
            ]
          },
          "metadata": {
            "tags": []
          },
          "execution_count": 59
        }
      ]
    },
    {
      "cell_type": "code",
      "metadata": {
        "id": "4ie3CT06tFgk",
        "colab_type": "code",
        "colab": {
          "base_uri": "https://localhost:8080/",
          "height": 330
        },
        "outputId": "19a2778c-98bf-46cb-cf5e-dbd8fdb41990"
      },
      "source": [
        "import seaborn as sns\n",
        "\n",
        "# Display the class distritution.\n",
        "sns.countplot(x='user-definedlabeln', data=df, palette=\"Set1\")\n",
        "plt.title('Class Distributions\\n (0: No Confused | 1: Confused)', fontsize=14)"
      ],
      "execution_count": 60,
      "outputs": [
        {
          "output_type": "execute_result",
          "data": {
            "text/plain": [
              "Text(0.5, 1.0, 'Class Distributions\\n (0: No Confused | 1: Confused)')"
            ]
          },
          "metadata": {
            "tags": []
          },
          "execution_count": 60
        },
        {
          "output_type": "display_data",
          "data": {
            "image/png": "[encoded data removed]",
            "text/plain": [
              "<Figure size 432x288 with 1 Axes>"
            ]
          },
          "metadata": {
            "tags": [],
            "needs_background": "light"
          }
        }
      ]
    },
    {
      "cell_type": "code",
      "metadata": {
        "id": "Im6TD93lpZ0-",
        "colab_type": "code",
        "colab": {
          "base_uri": "https://localhost:8080/",
          "height": 34
        },
        "outputId": "572c2cc6-2c6a-4ab2-d825-d199f67e465a"
      },
      "source": [
        "# Separate input features and target.\n",
        "X = df.drop(['predefinedlabel', 'user-definedlabeln'], axis=1).values\n",
        "y = df['user-definedlabeln'].values\n",
        "print(X.shape, y.shape)"
      ],
      "execution_count": 61,
      "outputs": [
        {
          "output_type": "stream",
          "text": [
            "(12811, 13) (12811,)\n"
          ],
          "name": "stdout"
        }
      ]
    },
    {
      "cell_type": "code",
      "metadata": {
        "id": "C5Sz8Kkds6uK",
        "colab_type": "code",
        "colab": {
          "base_uri": "https://localhost:8080/",
          "height": 34
        },
        "outputId": "ce539494-c3a5-4633-e94f-841d2cd0833b"
      },
      "source": [
        "from sklearn.model_selection import train_test_split\n",
        "# Split the dataset into the training set and test subsets.\n",
        "X_train, X_test, y_train, y_test = train_test_split(X, y, test_size=0.2, random_state=7)\n",
        "print(X_train.shape, X_test.shape, y_train.shape, y_test.shape)"
      ],
      "execution_count": 62,
      "outputs": [
        {
          "output_type": "stream",
          "text": [
            "(10248, 13) (2563, 13) (10248,) (2563,)\n"
          ],
          "name": "stdout"
        }
      ]
    },
    {
      "cell_type": "markdown",
      "metadata": {
        "id": "MmY0TehlvCzy",
        "colab_type": "text"
      },
      "source": [
        "#Random Forest"
      ]
    },
    {
      "cell_type": "code",
      "metadata": {
        "id": "4ESKxWBNuRQi",
        "colab_type": "code",
        "colab": {
          "base_uri": "https://localhost:8080/",
          "height": 170
        },
        "outputId": "8971eb13-817a-4534-ff44-7d923b9c05be"
      },
      "source": [
        "from sklearn.ensemble import RandomForestClassifier\n",
        "for i in range(1,10):\n",
        "    rf_clf = RandomForestClassifier(n_estimators=i, max_depth=3, random_state=7)\n",
        "    rf_clf.fit(X_train, y_train)\n",
        "    rf_clf.predict(X_test)\n",
        "    # Print accuracy.\n",
        "    accuracy = rf_clf.score(X_test, y_test)\n",
        "    print(\"Accuracy: %.2f%%\" % (accuracy * 100.0))"
      ],
      "execution_count": 63,
      "outputs": [
        {
          "output_type": "stream",
          "text": [
            "Accuracy: 58.99%\n",
            "Accuracy: 59.07%\n",
            "Accuracy: 59.11%\n",
            "Accuracy: 59.50%\n",
            "Accuracy: 62.58%\n",
            "Accuracy: 62.58%\n",
            "Accuracy: 63.36%\n",
            "Accuracy: 64.03%\n",
            "Accuracy: 64.18%\n"
          ],
          "name": "stdout"
        }
      ]
    },
    {
      "cell_type": "markdown",
      "metadata": {
        "id": "1ESpJe_SvF5l",
        "colab_type": "text"
      },
      "source": [
        "#Support Vector Machine"
      ]
    },
    {
      "cell_type": "code",
      "metadata": {
        "id": "xpLT5J3uu53Y",
        "colab_type": "code",
        "colab": {
          "base_uri": "https://localhost:8080/",
          "height": 51
        },
        "outputId": "173c76e9-6f96-4b25-b637-e0845df25e55"
      },
      "source": [
        "from sklearn import svm\n",
        "svm_clf = svm.SVC()\n",
        "svm_clf.fit(X_train, y_train)\n",
        "print(svm_clf.predict(X_test))\n",
        "# Print accuracy.\n",
        "accuracy = svm_clf.score(X_test, y_test)\n",
        "print(\"Accuracy: %.2f%%\" % (accuracy * 100.0))"
      ],
      "execution_count": 64,
      "outputs": [
        {
          "output_type": "stream",
          "text": [
            "[0. 1. 0. ... 0. 0. 0.]\n",
            "Accuracy: 58.84%\n"
          ],
          "name": "stdout"
        }
      ]
    },
    {
      "cell_type": "markdown",
      "metadata": {
        "id": "fFtVaCQ6HT1u",
        "colab_type": "text"
      },
      "source": [
        "#Decision Tree"
      ]
    },
    {
      "cell_type": "code",
      "metadata": {
        "id": "C_DbWQGcHW4W",
        "colab_type": "code",
        "colab": {
          "base_uri": "https://localhost:8080/",
          "height": 52
        },
        "outputId": "ee56af99-2a71-43b3-9624-46f890d50119"
      },
      "source": [
        "from sklearn.tree import DecisionTreeClassifier\n",
        "dt_clf = DecisionTreeClassifier(max_depth=2)\n",
        "dt_clf.fit(X_train, y_train)\n",
        "print(dt_clf.predict(X_test))\n",
        "# Print accuracy.\n",
        "accuracy = dt_clf.score(X_test, y_test)\n",
        "print(\"Accuracy: %.2f%%\" % (accuracy * 100.0))"
      ],
      "execution_count": 65,
      "outputs": [
        {
          "output_type": "stream",
          "text": [
            "[1. 1. 0. ... 0. 1. 1.]\n",
            "Accuracy: 60.91%\n"
          ],
          "name": "stdout"
        }
      ]
    },
    {
      "cell_type": "code",
      "metadata": {
        "id": "bnUNcCdUH0U_",
        "colab_type": "code",
        "colab": {
          "base_uri": "https://localhost:8080/",
          "height": 440
        },
        "outputId": "3716d048-46f7-4e99-cbbf-67ab5a9d298f"
      },
      "source": [
        "import graphviz \n",
        "from sklearn.tree import export_graphviz\n",
        "features = ['SubjectID', 'VideoID', 'Attention', 'Mediation', 'Raw', 'Delta', 'Theta', 'Alpha1', 'Alpha2', 'Beta1', 'Beta2', 'Gamma1', 'Gamma2']\n",
        "tree_view = export_graphviz(dt_clf, \n",
        "                            out_file=None, \n",
        "                            feature_names = features,\n",
        "                            class_names = ['No Confused', 'Confused'])  \n",
        "tree1viz = graphviz.Source(tree_view)\n",
        "tree1viz"
      ],
      "execution_count": 66,
      "outputs": [
        {
          "output_type": "execute_result",
          "data": {
            "text/plain": [
              "<graphviz.files.Source at 0x7f2cd832a588>"
            ],
            "image/svg+xml": "<?xml version=\"1.0\" encoding=\"UTF-8\" standalone=\"no\"?>\n<!DOCTYPE svg PUBLIC \"-//W3C//DTD SVG 1.1//EN\"\n \"http://www.w3.org/Graphics/SVG/1.1/DTD/svg11.dtd\">\n<!-- Generated by graphviz version 2.40.1 (20161225.0304)\n -->\n<!-- Title: Tree Pages: 1 -->\n<svg width=\"588pt\" height=\"314pt\"\n viewBox=\"0.00 0.00 588.00 314.00\" xmlns=\"http://www.w3.org/2000/svg\" xmlns:xlink=\"http://www.w3.org/1999/xlink\">\n<g id=\"graph0\" class=\"graph\" transform=\"scale(1 1) rotate(0) translate(4 310)\">\n<title>Tree</title>\n<polygon fill=\"#ffffff\" stroke=\"transparent\" points=\"-4,4 -4,-310 584,-310 584,4 -4,4\"/>\n<!-- 0 -->\n<g id=\"node1\" class=\"node\">\n<title>0</title>\n<polygon fill=\"none\" stroke=\"#000000\" points=\"372,-306 232,-306 232,-223 372,-223 372,-306\"/>\n<text text-anchor=\"middle\" x=\"302\" y=\"-290.8\" font-family=\"Times,serif\" font-size=\"14.00\" fill=\"#000000\">VideoID &lt;= 8.5</text>\n<text text-anchor=\"middle\" x=\"302\" y=\"-275.8\" font-family=\"Times,serif\" font-size=\"14.00\" fill=\"#000000\">gini = 0.5</text>\n<text text-anchor=\"middle\" x=\"302\" y=\"-260.8\" font-family=\"Times,serif\" font-size=\"14.00\" fill=\"#000000\">samples = 10248</text>\n<text text-anchor=\"middle\" x=\"302\" y=\"-245.8\" font-family=\"Times,serif\" font-size=\"14.00\" fill=\"#000000\">value = [4982, 5266]</text>\n<text text-anchor=\"middle\" x=\"302\" y=\"-230.8\" font-family=\"Times,serif\" font-size=\"14.00\" fill=\"#000000\">class = Confused</text>\n</g>\n<!-- 1 -->\n<g id=\"node2\" class=\"node\">\n<title>1</title>\n<polygon fill=\"none\" stroke=\"#000000\" points=\"294,-187 154,-187 154,-104 294,-104 294,-187\"/>\n<text text-anchor=\"middle\" x=\"224\" y=\"-171.8\" font-family=\"Times,serif\" font-size=\"14.00\" fill=\"#000000\">VideoID &lt;= 0.5</text>\n<text text-anchor=\"middle\" x=\"224\" y=\"-156.8\" font-family=\"Times,serif\" font-size=\"14.00\" fill=\"#000000\">gini = 0.495</text>\n<text text-anchor=\"middle\" x=\"224\" y=\"-141.8\" font-family=\"Times,serif\" font-size=\"14.00\" fill=\"#000000\">samples = 9221</text>\n<text text-anchor=\"middle\" x=\"224\" y=\"-126.8\" font-family=\"Times,serif\" font-size=\"14.00\" fill=\"#000000\">value = [4163, 5058]</text>\n<text text-anchor=\"middle\" x=\"224\" y=\"-111.8\" font-family=\"Times,serif\" font-size=\"14.00\" fill=\"#000000\">class = Confused</text>\n</g>\n<!-- 0&#45;&gt;1 -->\n<g id=\"edge1\" class=\"edge\">\n<title>0&#45;&gt;1</title>\n<path fill=\"none\" stroke=\"#000000\" d=\"M274.7194,-222.8796C268.9932,-214.1434 262.8954,-204.8404 256.9863,-195.8253\"/>\n<polygon fill=\"#000000\" stroke=\"#000000\" points=\"259.8063,-193.7429 251.3971,-187.2981 253.9518,-197.5803 259.8063,-193.7429\"/>\n<text text-anchor=\"middle\" x=\"246.3032\" y=\"-208.0736\" font-family=\"Times,serif\" font-size=\"14.00\" fill=\"#000000\">True</text>\n</g>\n<!-- 4 -->\n<g id=\"node5\" class=\"node\">\n<title>4</title>\n<polygon fill=\"none\" stroke=\"#000000\" points=\"448,-187 312,-187 312,-104 448,-104 448,-187\"/>\n<text text-anchor=\"middle\" x=\"380\" y=\"-171.8\" font-family=\"Times,serif\" font-size=\"14.00\" fill=\"#000000\">SubjectID &lt;= 7.5</text>\n<text text-anchor=\"middle\" x=\"380\" y=\"-156.8\" font-family=\"Times,serif\" font-size=\"14.00\" fill=\"#000000\">gini = 0.323</text>\n<text text-anchor=\"middle\" x=\"380\" y=\"-141.8\" font-family=\"Times,serif\" font-size=\"14.00\" fill=\"#000000\">samples = 1027</text>\n<text text-anchor=\"middle\" x=\"380\" y=\"-126.8\" font-family=\"Times,serif\" font-size=\"14.00\" fill=\"#000000\">value = [819, 208]</text>\n<text text-anchor=\"middle\" x=\"380\" y=\"-111.8\" font-family=\"Times,serif\" font-size=\"14.00\" fill=\"#000000\">class = No Confused</text>\n</g>\n<!-- 0&#45;&gt;4 -->\n<g id=\"edge4\" class=\"edge\">\n<title>0&#45;&gt;4</title>\n<path fill=\"none\" stroke=\"#000000\" d=\"M329.2806,-222.8796C335.0068,-214.1434 341.1046,-204.8404 347.0137,-195.8253\"/>\n<polygon fill=\"#000000\" stroke=\"#000000\" points=\"350.0482,-197.5803 352.6029,-187.2981 344.1937,-193.7429 350.0482,-197.5803\"/>\n<text text-anchor=\"middle\" x=\"357.6968\" y=\"-208.0736\" font-family=\"Times,serif\" font-size=\"14.00\" fill=\"#000000\">False</text>\n</g>\n<!-- 2 -->\n<g id=\"node3\" class=\"node\">\n<title>2</title>\n<polygon fill=\"none\" stroke=\"#000000\" points=\"136,-68 0,-68 0,0 136,0 136,-68\"/>\n<text text-anchor=\"middle\" x=\"68\" y=\"-52.8\" font-family=\"Times,serif\" font-size=\"14.00\" fill=\"#000000\">gini = 0.418</text>\n<text text-anchor=\"middle\" x=\"68\" y=\"-37.8\" font-family=\"Times,serif\" font-size=\"14.00\" fill=\"#000000\">samples = 1131</text>\n<text text-anchor=\"middle\" x=\"68\" y=\"-22.8\" font-family=\"Times,serif\" font-size=\"14.00\" fill=\"#000000\">value = [795, 336]</text>\n<text text-anchor=\"middle\" x=\"68\" y=\"-7.8\" font-family=\"Times,serif\" font-size=\"14.00\" fill=\"#000000\">class = No Confused</text>\n</g>\n<!-- 1&#45;&gt;2 -->\n<g id=\"edge2\" class=\"edge\">\n<title>1&#45;&gt;2</title>\n<path fill=\"none\" stroke=\"#000000\" d=\"M165.9114,-103.9815C152.2811,-94.2394 137.7816,-83.8759 124.2342,-74.193\"/>\n<polygon fill=\"#000000\" stroke=\"#000000\" points=\"126.1092,-71.2311 115.9384,-68.2637 122.0388,-76.926 126.1092,-71.2311\"/>\n</g>\n<!-- 3 -->\n<g id=\"node4\" class=\"node\">\n<title>3</title>\n<polygon fill=\"none\" stroke=\"#000000\" points=\"294,-68 154,-68 154,0 294,0 294,-68\"/>\n<text text-anchor=\"middle\" x=\"224\" y=\"-52.8\" font-family=\"Times,serif\" font-size=\"14.00\" fill=\"#000000\">gini = 0.486</text>\n<text text-anchor=\"middle\" x=\"224\" y=\"-37.8\" font-family=\"Times,serif\" font-size=\"14.00\" fill=\"#000000\">samples = 8090</text>\n<text text-anchor=\"middle\" x=\"224\" y=\"-22.8\" font-family=\"Times,serif\" font-size=\"14.00\" fill=\"#000000\">value = [3368, 4722]</text>\n<text text-anchor=\"middle\" x=\"224\" y=\"-7.8\" font-family=\"Times,serif\" font-size=\"14.00\" fill=\"#000000\">class = Confused</text>\n</g>\n<!-- 1&#45;&gt;3 -->\n<g id=\"edge3\" class=\"edge\">\n<title>1&#45;&gt;3</title>\n<path fill=\"none\" stroke=\"#000000\" d=\"M224,-103.9815C224,-95.618 224,-86.7965 224,-78.3409\"/>\n<polygon fill=\"#000000\" stroke=\"#000000\" points=\"227.5001,-78.2636 224,-68.2637 220.5001,-78.2637 227.5001,-78.2636\"/>\n</g>\n<!-- 5 -->\n<g id=\"node6\" class=\"node\">\n<title>5</title>\n<polygon fill=\"none\" stroke=\"#000000\" points=\"448,-68 312,-68 312,0 448,0 448,-68\"/>\n<text text-anchor=\"middle\" x=\"380\" y=\"-52.8\" font-family=\"Times,serif\" font-size=\"14.00\" fill=\"#000000\">gini = 0.232</text>\n<text text-anchor=\"middle\" x=\"380\" y=\"-37.8\" font-family=\"Times,serif\" font-size=\"14.00\" fill=\"#000000\">samples = 836</text>\n<text text-anchor=\"middle\" x=\"380\" y=\"-22.8\" font-family=\"Times,serif\" font-size=\"14.00\" fill=\"#000000\">value = [724, 112]</text>\n<text text-anchor=\"middle\" x=\"380\" y=\"-7.8\" font-family=\"Times,serif\" font-size=\"14.00\" fill=\"#000000\">class = No Confused</text>\n</g>\n<!-- 4&#45;&gt;5 -->\n<g id=\"edge5\" class=\"edge\">\n<title>4&#45;&gt;5</title>\n<path fill=\"none\" stroke=\"#000000\" d=\"M380,-103.9815C380,-95.618 380,-86.7965 380,-78.3409\"/>\n<polygon fill=\"#000000\" stroke=\"#000000\" points=\"383.5001,-78.2636 380,-68.2637 376.5001,-78.2637 383.5001,-78.2636\"/>\n</g>\n<!-- 6 -->\n<g id=\"node7\" class=\"node\">\n<title>6</title>\n<polygon fill=\"none\" stroke=\"#000000\" points=\"580,-68 466,-68 466,0 580,0 580,-68\"/>\n<text text-anchor=\"middle\" x=\"523\" y=\"-52.8\" font-family=\"Times,serif\" font-size=\"14.00\" fill=\"#000000\">gini = 0.5</text>\n<text text-anchor=\"middle\" x=\"523\" y=\"-37.8\" font-family=\"Times,serif\" font-size=\"14.00\" fill=\"#000000\">samples = 191</text>\n<text text-anchor=\"middle\" x=\"523\" y=\"-22.8\" font-family=\"Times,serif\" font-size=\"14.00\" fill=\"#000000\">value = [95, 96]</text>\n<text text-anchor=\"middle\" x=\"523\" y=\"-7.8\" font-family=\"Times,serif\" font-size=\"14.00\" fill=\"#000000\">class = Confused</text>\n</g>\n<!-- 4&#45;&gt;6 -->\n<g id=\"edge6\" class=\"edge\">\n<title>4&#45;&gt;6</title>\n<path fill=\"none\" stroke=\"#000000\" d=\"M433.2479,-103.9815C445.6244,-94.3313 458.7828,-84.0714 471.1003,-74.4673\"/>\n<polygon fill=\"#000000\" stroke=\"#000000\" points=\"473.3225,-77.1728 479.0565,-68.2637 469.0182,-71.6525 473.3225,-77.1728\"/>\n</g>\n</g>\n</svg>\n"
          },
          "metadata": {
            "tags": []
          },
          "execution_count": 66
        }
      ]
    },
    {
      "cell_type": "markdown",
      "metadata": {
        "id": "iaEBB2c5vSiK",
        "colab_type": "text"
      },
      "source": [
        "#XGBoost"
      ]
    },
    {
      "cell_type": "code",
      "metadata": {
        "id": "D0WGitrDvN20",
        "colab_type": "code",
        "colab": {
          "base_uri": "https://localhost:8080/",
          "height": 51
        },
        "outputId": "8057c808-bf11-414a-e87b-b982cf7c32c9"
      },
      "source": [
        "from xgboost import XGBClassifier\n",
        "xg = XGBClassifier(objective='binary:logistic', n_estimators=1000, seed=7)\n",
        "xg.fit(X_train, y_train)\n",
        "print(xg.predict(X_test))\n",
        "# Print accuracy.\n",
        "accuracy = xg.score(X_test, y_test)\n",
        "print(\"Accuracy: %.2f%%\" % (accuracy * 100.0))"
      ],
      "execution_count": 67,
      "outputs": [
        {
          "output_type": "stream",
          "text": [
            "[1. 0. 0. ... 0. 1. 0.]\n",
            "Accuracy: 98.17%\n"
          ],
          "name": "stdout"
        }
      ]
    },
    {
      "cell_type": "markdown",
      "metadata": {
        "id": "jLRCTSU2xcof",
        "colab_type": "text"
      },
      "source": [
        "#CatBoost"
      ]
    },
    {
      "cell_type": "code",
      "metadata": {
        "id": "ZOWIR9EDxs83",
        "colab_type": "code",
        "colab": {
          "base_uri": "https://localhost:8080/",
          "height": 1000
        },
        "outputId": "6aa56a7a-2cc3-4234-fa9e-7264580a6a17"
      },
      "source": [
        "from catboost import CatBoostClassifier\n",
        "cb = CatBoostClassifier(iterations=200, random_seed=7)\n",
        "cb.fit(X_train, y_train)\n",
        "print(cb.predict(X_test))\n",
        "# Print accuracy.\n",
        "accuracy = cb.score(X_test, y_test)\n",
        "print(\"Accuracy: %.2f%%\" % (accuracy * 100.0))"
      ],
      "execution_count": 68,
      "outputs": [
        {
          "output_type": "stream",
          "text": [
            "Learning rate set to 0.12174\n",
            "0:\tlearn: 0.6325808\ttotal: 11.5ms\tremaining: 2.28s\n",
            "1:\tlearn: 0.5935357\ttotal: 21.5ms\tremaining: 2.13s\n",
            "2:\tlearn: 0.5696859\ttotal: 31.2ms\tremaining: 2.05s\n",
            "3:\tlearn: 0.5393313\ttotal: 41.1ms\tremaining: 2.01s\n",
            "4:\tlearn: 0.5189981\ttotal: 50.9ms\tremaining: 1.98s\n",
            "5:\tlearn: 0.4930690\ttotal: 63.3ms\tremaining: 2.04s\n",
            "6:\tlearn: 0.4777266\ttotal: 73.9ms\tremaining: 2.04s\n",
            "7:\tlearn: 0.4662041\ttotal: 84.3ms\tremaining: 2.02s\n",
            "8:\tlearn: 0.4580830\ttotal: 94.6ms\tremaining: 2.01s\n",
            "9:\tlearn: 0.4309386\ttotal: 105ms\tremaining: 1.99s\n",
            "10:\tlearn: 0.4269295\ttotal: 115ms\tremaining: 1.97s\n",
            "11:\tlearn: 0.4083317\ttotal: 125ms\tremaining: 1.96s\n",
            "12:\tlearn: 0.3813093\ttotal: 135ms\tremaining: 1.94s\n",
            "13:\tlearn: 0.3531015\ttotal: 145ms\tremaining: 1.92s\n",
            "14:\tlearn: 0.3403138\ttotal: 154ms\tremaining: 1.91s\n",
            "15:\tlearn: 0.3292838\ttotal: 164ms\tremaining: 1.89s\n",
            "16:\tlearn: 0.3127302\ttotal: 174ms\tremaining: 1.87s\n",
            "17:\tlearn: 0.3012539\ttotal: 184ms\tremaining: 1.86s\n",
            "18:\tlearn: 0.2870409\ttotal: 193ms\tremaining: 1.84s\n",
            "19:\tlearn: 0.2745108\ttotal: 206ms\tremaining: 1.86s\n",
            "20:\tlearn: 0.2613746\ttotal: 216ms\tremaining: 1.84s\n",
            "21:\tlearn: 0.2541956\ttotal: 226ms\tremaining: 1.83s\n",
            "22:\tlearn: 0.2450648\ttotal: 236ms\tremaining: 1.81s\n",
            "23:\tlearn: 0.2285763\ttotal: 245ms\tremaining: 1.8s\n",
            "24:\tlearn: 0.2249829\ttotal: 255ms\tremaining: 1.78s\n",
            "25:\tlearn: 0.2122931\ttotal: 267ms\tremaining: 1.79s\n",
            "26:\tlearn: 0.2048646\ttotal: 277ms\tremaining: 1.78s\n",
            "27:\tlearn: 0.1957242\ttotal: 287ms\tremaining: 1.76s\n",
            "28:\tlearn: 0.1884579\ttotal: 297ms\tremaining: 1.75s\n",
            "29:\tlearn: 0.1794932\ttotal: 307ms\tremaining: 1.74s\n",
            "30:\tlearn: 0.1755928\ttotal: 317ms\tremaining: 1.73s\n",
            "31:\tlearn: 0.1650848\ttotal: 328ms\tremaining: 1.72s\n",
            "32:\tlearn: 0.1617217\ttotal: 343ms\tremaining: 1.74s\n",
            "33:\tlearn: 0.1563797\ttotal: 353ms\tremaining: 1.72s\n",
            "34:\tlearn: 0.1541310\ttotal: 363ms\tremaining: 1.71s\n",
            "35:\tlearn: 0.1450387\ttotal: 372ms\tremaining: 1.7s\n",
            "36:\tlearn: 0.1406377\ttotal: 382ms\tremaining: 1.68s\n",
            "37:\tlearn: 0.1390750\ttotal: 392ms\tremaining: 1.67s\n",
            "38:\tlearn: 0.1306337\ttotal: 402ms\tremaining: 1.66s\n",
            "39:\tlearn: 0.1248971\ttotal: 415ms\tremaining: 1.66s\n",
            "40:\tlearn: 0.1208514\ttotal: 425ms\tremaining: 1.65s\n",
            "41:\tlearn: 0.1185908\ttotal: 435ms\tremaining: 1.64s\n",
            "42:\tlearn: 0.1163011\ttotal: 445ms\tremaining: 1.62s\n",
            "43:\tlearn: 0.1113478\ttotal: 455ms\tremaining: 1.61s\n",
            "44:\tlearn: 0.1047822\ttotal: 464ms\tremaining: 1.6s\n",
            "45:\tlearn: 0.1015592\ttotal: 476ms\tremaining: 1.59s\n",
            "46:\tlearn: 0.0993906\ttotal: 486ms\tremaining: 1.58s\n",
            "47:\tlearn: 0.0978890\ttotal: 496ms\tremaining: 1.57s\n",
            "48:\tlearn: 0.0894154\ttotal: 506ms\tremaining: 1.56s\n",
            "49:\tlearn: 0.0867336\ttotal: 515ms\tremaining: 1.55s\n",
            "50:\tlearn: 0.0843635\ttotal: 526ms\tremaining: 1.53s\n",
            "51:\tlearn: 0.0809438\ttotal: 535ms\tremaining: 1.52s\n",
            "52:\tlearn: 0.0758654\ttotal: 545ms\tremaining: 1.51s\n",
            "53:\tlearn: 0.0743409\ttotal: 554ms\tremaining: 1.5s\n",
            "54:\tlearn: 0.0722406\ttotal: 564ms\tremaining: 1.49s\n",
            "55:\tlearn: 0.0700125\ttotal: 574ms\tremaining: 1.48s\n",
            "56:\tlearn: 0.0654759\ttotal: 584ms\tremaining: 1.46s\n",
            "57:\tlearn: 0.0631029\ttotal: 593ms\tremaining: 1.45s\n",
            "58:\tlearn: 0.0605300\ttotal: 603ms\tremaining: 1.44s\n",
            "59:\tlearn: 0.0584167\ttotal: 613ms\tremaining: 1.43s\n",
            "60:\tlearn: 0.0572914\ttotal: 625ms\tremaining: 1.42s\n",
            "61:\tlearn: 0.0562811\ttotal: 635ms\tremaining: 1.41s\n",
            "62:\tlearn: 0.0541676\ttotal: 645ms\tremaining: 1.4s\n",
            "63:\tlearn: 0.0513895\ttotal: 654ms\tremaining: 1.39s\n",
            "64:\tlearn: 0.0485662\ttotal: 664ms\tremaining: 1.38s\n",
            "65:\tlearn: 0.0481340\ttotal: 674ms\tremaining: 1.37s\n",
            "66:\tlearn: 0.0471367\ttotal: 686ms\tremaining: 1.36s\n",
            "67:\tlearn: 0.0457803\ttotal: 696ms\tremaining: 1.35s\n",
            "68:\tlearn: 0.0450461\ttotal: 706ms\tremaining: 1.34s\n",
            "69:\tlearn: 0.0429218\ttotal: 715ms\tremaining: 1.33s\n",
            "70:\tlearn: 0.0415916\ttotal: 725ms\tremaining: 1.32s\n",
            "71:\tlearn: 0.0396546\ttotal: 734ms\tremaining: 1.3s\n",
            "72:\tlearn: 0.0385268\ttotal: 744ms\tremaining: 1.29s\n",
            "73:\tlearn: 0.0377556\ttotal: 754ms\tremaining: 1.28s\n",
            "74:\tlearn: 0.0368746\ttotal: 764ms\tremaining: 1.27s\n",
            "75:\tlearn: 0.0363601\ttotal: 773ms\tremaining: 1.26s\n",
            "76:\tlearn: 0.0358647\ttotal: 783ms\tremaining: 1.25s\n",
            "77:\tlearn: 0.0341192\ttotal: 793ms\tremaining: 1.24s\n",
            "78:\tlearn: 0.0323701\ttotal: 803ms\tremaining: 1.23s\n",
            "79:\tlearn: 0.0309808\ttotal: 812ms\tremaining: 1.22s\n",
            "80:\tlearn: 0.0303766\ttotal: 824ms\tremaining: 1.21s\n",
            "81:\tlearn: 0.0294734\ttotal: 835ms\tremaining: 1.2s\n",
            "82:\tlearn: 0.0279043\ttotal: 845ms\tremaining: 1.19s\n",
            "83:\tlearn: 0.0270268\ttotal: 854ms\tremaining: 1.18s\n",
            "84:\tlearn: 0.0267347\ttotal: 864ms\tremaining: 1.17s\n",
            "85:\tlearn: 0.0257921\ttotal: 876ms\tremaining: 1.16s\n",
            "86:\tlearn: 0.0249206\ttotal: 886ms\tremaining: 1.15s\n",
            "87:\tlearn: 0.0240026\ttotal: 896ms\tremaining: 1.14s\n",
            "88:\tlearn: 0.0231119\ttotal: 906ms\tremaining: 1.13s\n",
            "89:\tlearn: 0.0221125\ttotal: 916ms\tremaining: 1.12s\n",
            "90:\tlearn: 0.0216147\ttotal: 926ms\tremaining: 1.11s\n",
            "91:\tlearn: 0.0209505\ttotal: 936ms\tremaining: 1.1s\n",
            "92:\tlearn: 0.0206320\ttotal: 946ms\tremaining: 1.09s\n",
            "93:\tlearn: 0.0198159\ttotal: 957ms\tremaining: 1.08s\n",
            "94:\tlearn: 0.0192627\ttotal: 968ms\tremaining: 1.07s\n",
            "95:\tlearn: 0.0186281\ttotal: 978ms\tremaining: 1.06s\n",
            "96:\tlearn: 0.0182348\ttotal: 991ms\tremaining: 1.05s\n",
            "97:\tlearn: 0.0176200\ttotal: 1s\tremaining: 1.04s\n",
            "98:\tlearn: 0.0172390\ttotal: 1.01s\tremaining: 1.03s\n",
            "99:\tlearn: 0.0168935\ttotal: 1.02s\tremaining: 1.02s\n",
            "100:\tlearn: 0.0166399\ttotal: 1.03s\tremaining: 1.01s\n",
            "101:\tlearn: 0.0160142\ttotal: 1.04s\tremaining: 1s\n",
            "102:\tlearn: 0.0156527\ttotal: 1.05s\tremaining: 992ms\n",
            "103:\tlearn: 0.0151356\ttotal: 1.06s\tremaining: 981ms\n",
            "104:\tlearn: 0.0148871\ttotal: 1.07s\tremaining: 970ms\n",
            "105:\tlearn: 0.0144049\ttotal: 1.09s\tremaining: 963ms\n",
            "106:\tlearn: 0.0139282\ttotal: 1.1s\tremaining: 953ms\n",
            "107:\tlearn: 0.0135173\ttotal: 1.11s\tremaining: 942ms\n",
            "108:\tlearn: 0.0131140\ttotal: 1.11s\tremaining: 931ms\n",
            "109:\tlearn: 0.0127934\ttotal: 1.13s\tremaining: 921ms\n",
            "110:\tlearn: 0.0124370\ttotal: 1.14s\tremaining: 910ms\n",
            "111:\tlearn: 0.0121814\ttotal: 1.14s\tremaining: 900ms\n",
            "112:\tlearn: 0.0119817\ttotal: 1.15s\tremaining: 889ms\n",
            "113:\tlearn: 0.0117565\ttotal: 1.16s\tremaining: 878ms\n",
            "114:\tlearn: 0.0116172\ttotal: 1.17s\tremaining: 868ms\n",
            "115:\tlearn: 0.0115688\ttotal: 1.18s\tremaining: 857ms\n",
            "116:\tlearn: 0.0114390\ttotal: 1.19s\tremaining: 847ms\n",
            "117:\tlearn: 0.0112036\ttotal: 1.2s\tremaining: 836ms\n",
            "118:\tlearn: 0.0109657\ttotal: 1.21s\tremaining: 825ms\n",
            "119:\tlearn: 0.0107975\ttotal: 1.22s\tremaining: 815ms\n",
            "120:\tlearn: 0.0106101\ttotal: 1.24s\tremaining: 808ms\n",
            "121:\tlearn: 0.0104135\ttotal: 1.25s\tremaining: 797ms\n",
            "122:\tlearn: 0.0103970\ttotal: 1.26s\tremaining: 787ms\n",
            "123:\tlearn: 0.0101930\ttotal: 1.27s\tremaining: 776ms\n",
            "124:\tlearn: 0.0100405\ttotal: 1.28s\tremaining: 766ms\n",
            "125:\tlearn: 0.0098111\ttotal: 1.29s\tremaining: 759ms\n",
            "126:\tlearn: 0.0096647\ttotal: 1.3s\tremaining: 748ms\n",
            "127:\tlearn: 0.0095422\ttotal: 1.31s\tremaining: 738ms\n",
            "128:\tlearn: 0.0095208\ttotal: 1.32s\tremaining: 728ms\n",
            "129:\tlearn: 0.0092825\ttotal: 1.34s\tremaining: 721ms\n",
            "130:\tlearn: 0.0090747\ttotal: 1.35s\tremaining: 711ms\n",
            "131:\tlearn: 0.0090641\ttotal: 1.36s\tremaining: 700ms\n",
            "132:\tlearn: 0.0089692\ttotal: 1.37s\tremaining: 689ms\n",
            "133:\tlearn: 0.0088003\ttotal: 1.38s\tremaining: 679ms\n",
            "134:\tlearn: 0.0084536\ttotal: 1.39s\tremaining: 670ms\n",
            "135:\tlearn: 0.0082370\ttotal: 1.4s\tremaining: 660ms\n",
            "136:\tlearn: 0.0079129\ttotal: 1.41s\tremaining: 651ms\n",
            "137:\tlearn: 0.0078726\ttotal: 1.43s\tremaining: 644ms\n",
            "138:\tlearn: 0.0076924\ttotal: 1.45s\tremaining: 638ms\n",
            "139:\tlearn: 0.0075887\ttotal: 1.47s\tremaining: 629ms\n",
            "140:\tlearn: 0.0073987\ttotal: 1.48s\tremaining: 619ms\n",
            "141:\tlearn: 0.0072653\ttotal: 1.49s\tremaining: 608ms\n",
            "142:\tlearn: 0.0072140\ttotal: 1.5s\tremaining: 598ms\n",
            "143:\tlearn: 0.0071258\ttotal: 1.51s\tremaining: 587ms\n",
            "144:\tlearn: 0.0069609\ttotal: 1.52s\tremaining: 577ms\n",
            "145:\tlearn: 0.0068459\ttotal: 1.53s\tremaining: 566ms\n",
            "146:\tlearn: 0.0067220\ttotal: 1.54s\tremaining: 555ms\n",
            "147:\tlearn: 0.0065650\ttotal: 1.55s\tremaining: 544ms\n",
            "148:\tlearn: 0.0064981\ttotal: 1.56s\tremaining: 535ms\n",
            "149:\tlearn: 0.0063535\ttotal: 1.57s\tremaining: 525ms\n",
            "150:\tlearn: 0.0063397\ttotal: 1.59s\tremaining: 515ms\n",
            "151:\tlearn: 0.0062678\ttotal: 1.6s\tremaining: 504ms\n",
            "152:\tlearn: 0.0060990\ttotal: 1.61s\tremaining: 493ms\n",
            "153:\tlearn: 0.0058487\ttotal: 1.62s\tremaining: 483ms\n",
            "154:\tlearn: 0.0058053\ttotal: 1.63s\tremaining: 472ms\n",
            "155:\tlearn: 0.0056990\ttotal: 1.64s\tremaining: 461ms\n",
            "156:\tlearn: 0.0055755\ttotal: 1.65s\tremaining: 451ms\n",
            "157:\tlearn: 0.0054651\ttotal: 1.66s\tremaining: 442ms\n",
            "158:\tlearn: 0.0053088\ttotal: 1.68s\tremaining: 433ms\n",
            "159:\tlearn: 0.0052163\ttotal: 1.69s\tremaining: 422ms\n",
            "160:\tlearn: 0.0051562\ttotal: 1.7s\tremaining: 412ms\n",
            "161:\tlearn: 0.0050853\ttotal: 1.71s\tremaining: 401ms\n",
            "162:\tlearn: 0.0050001\ttotal: 1.72s\tremaining: 390ms\n",
            "163:\tlearn: 0.0048956\ttotal: 1.73s\tremaining: 380ms\n",
            "164:\tlearn: 0.0047228\ttotal: 1.74s\tremaining: 369ms\n",
            "165:\tlearn: 0.0046357\ttotal: 1.75s\tremaining: 359ms\n",
            "166:\tlearn: 0.0045808\ttotal: 1.76s\tremaining: 348ms\n",
            "167:\tlearn: 0.0045475\ttotal: 1.77s\tremaining: 337ms\n",
            "168:\tlearn: 0.0044322\ttotal: 1.78s\tremaining: 327ms\n",
            "169:\tlearn: 0.0043397\ttotal: 1.79s\tremaining: 316ms\n",
            "170:\tlearn: 0.0042961\ttotal: 1.8s\tremaining: 305ms\n",
            "171:\tlearn: 0.0042499\ttotal: 1.81s\tremaining: 295ms\n",
            "172:\tlearn: 0.0041723\ttotal: 1.82s\tremaining: 284ms\n",
            "173:\tlearn: 0.0040496\ttotal: 1.83s\tremaining: 273ms\n",
            "174:\tlearn: 0.0039707\ttotal: 1.84s\tremaining: 263ms\n",
            "175:\tlearn: 0.0038977\ttotal: 1.85s\tremaining: 252ms\n",
            "176:\tlearn: 0.0038600\ttotal: 1.86s\tremaining: 242ms\n",
            "177:\tlearn: 0.0038246\ttotal: 1.87s\tremaining: 231ms\n",
            "178:\tlearn: 0.0038015\ttotal: 1.88s\tremaining: 221ms\n",
            "179:\tlearn: 0.0037046\ttotal: 1.89s\tremaining: 210ms\n",
            "180:\tlearn: 0.0036423\ttotal: 1.91s\tremaining: 200ms\n",
            "181:\tlearn: 0.0035908\ttotal: 1.92s\tremaining: 190ms\n",
            "182:\tlearn: 0.0035247\ttotal: 1.93s\tremaining: 179ms\n",
            "183:\tlearn: 0.0034957\ttotal: 1.94s\tremaining: 169ms\n",
            "184:\tlearn: 0.0034609\ttotal: 1.95s\tremaining: 158ms\n",
            "185:\tlearn: 0.0033830\ttotal: 1.96s\tremaining: 147ms\n",
            "186:\tlearn: 0.0033271\ttotal: 1.97s\tremaining: 137ms\n",
            "187:\tlearn: 0.0032746\ttotal: 1.98s\tremaining: 126ms\n",
            "188:\tlearn: 0.0032304\ttotal: 1.99s\tremaining: 116ms\n",
            "189:\tlearn: 0.0032304\ttotal: 1.99s\tremaining: 105ms\n",
            "190:\tlearn: 0.0031799\ttotal: 2s\tremaining: 94.5ms\n",
            "191:\tlearn: 0.0031515\ttotal: 2.01s\tremaining: 83.9ms\n",
            "192:\tlearn: 0.0031515\ttotal: 2.02s\tremaining: 73.3ms\n",
            "193:\tlearn: 0.0031193\ttotal: 2.03s\tremaining: 62.8ms\n",
            "194:\tlearn: 0.0030845\ttotal: 2.04s\tremaining: 52.3ms\n",
            "195:\tlearn: 0.0030333\ttotal: 2.05s\tremaining: 41.8ms\n",
            "196:\tlearn: 0.0030333\ttotal: 2.06s\tremaining: 31.3ms\n",
            "197:\tlearn: 0.0029873\ttotal: 2.07s\tremaining: 20.9ms\n",
            "198:\tlearn: 0.0029873\ttotal: 2.08s\tremaining: 10.4ms\n",
            "199:\tlearn: 0.0029461\ttotal: 2.09s\tremaining: 0us\n",
            "[1. 0. 0. ... 0. 1. 0.]\n",
            "Accuracy: 100.00%\n"
          ],
          "name": "stdout"
        }
      ]
    },
    {
      "cell_type": "code",
      "metadata": {
        "id": "Q1WnETOU1EKL",
        "colab_type": "code",
        "colab": {}
      },
      "source": [
        ""
      ],
      "execution_count": 68,
      "outputs": []
    }
  ]
}